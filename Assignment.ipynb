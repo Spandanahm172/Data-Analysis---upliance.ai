{
 "cells": [
  {
   "cell_type": "code",
   "execution_count": 1,
   "id": "ccc659af-b628-4f87-889a-db5e948469ca",
   "metadata": {},
   "outputs": [],
   "source": [
    "import pandas as pd "
   ]
  },
  {
   "cell_type": "code",
   "execution_count": 2,
   "id": "501b5080-9603-4572-b319-5cef35919edd",
   "metadata": {},
   "outputs": [],
   "source": [
    "user_details_df = pd.read_excel('Excel.xlsx', sheet_name = 'UserDetails.csv')\n",
    "cooking_df = pd.read_excel('Excel.xlsx', sheet_name = 'CookingSessions.csv')\n",
    "order_df = pd.read_excel('Excel.xlsx', sheet_name = 'OrderDetails.csv')"
   ]
  },
  {
   "cell_type": "code",
   "execution_count": 3,
   "id": "2640a638-baa2-4a08-b8f5-e5ac0d6d4ef3",
   "metadata": {
    "scrolled": true
   },
   "outputs": [],
   "source": [
    "# user_details_df"
   ]
  },
  {
   "cell_type": "code",
   "execution_count": 4,
   "id": "c73a9086-cee3-4d90-a69e-2d86cfa3d09e",
   "metadata": {
    "scrolled": true
   },
   "outputs": [],
   "source": [
    "# cooking_df"
   ]
  },
  {
   "cell_type": "code",
   "execution_count": 5,
   "id": "9e0b06d3-7a9c-4c5d-b4d6-75a1318e4674",
   "metadata": {
    "scrolled": true
   },
   "outputs": [],
   "source": [
    "# order_df"
   ]
  },
  {
   "cell_type": "markdown",
   "id": "8dcd282d-dcde-4da0-9565-12122225a73c",
   "metadata": {
    "scrolled": true
   },
   "source": [
    "Mapping\n",
    "\n",
    "* user_details_df User ID -> cooking_df User ID\n",
    "* user_details_df User ID -> order_df User ID\n",
    "* cooking_df Session ID -> order_df Session ID\n",
    "------------------------------------------------------\n",
    "### 1. User Behavior Analysis\n",
    "* Average number of cooking sessions per user.\n",
    "* Average orders per user and percentage of completed vs. canceled orders.\n",
    "\n",
    "* User Engagement Levels\n",
    "* Retention Analysis"
   ]
  },
  {
   "cell_type": "code",
   "execution_count": 6,
   "id": "03129b9e-ded9-466e-b34d-1406815aa2ce",
   "metadata": {},
   "outputs": [
    {
     "data": {
      "text/plain": [
       "2.0"
      ]
     },
     "execution_count": 6,
     "metadata": {},
     "output_type": "execute_result"
    }
   ],
   "source": [
    "# Average cooking sessions per user\n",
    "avg_sessions_per_user = cooking_df.groupby('User ID')['Session ID'].count().mean()\n",
    "avg_sessions_per_user"
   ]
  },
  {
   "cell_type": "code",
   "execution_count": 7,
   "id": "61cf0e62-919d-4021-8094-839b27bc42e0",
   "metadata": {},
   "outputs": [
    {
     "name": "stdout",
     "output_type": "stream",
     "text": [
      "Average orders per user: 2.0\n"
     ]
    },
    {
     "data": {
      "text/plain": [
       "Order Status\n",
       "Completed    87.5\n",
       "Canceled     12.5\n",
       "Name: proportion, dtype: float64"
      ]
     },
     "execution_count": 7,
     "metadata": {},
     "output_type": "execute_result"
    }
   ],
   "source": [
    "# Average orders per user\n",
    "avg_orders_per_user = order_df.groupby('User ID')['Order ID'].count().mean()\n",
    "\n",
    "# Percentage of completed vs. canceled orders\n",
    "order_status_distribution = order_df['Order Status'].value_counts(normalize=True) * 100\n",
    "print(f\"Average orders per user: {avg_orders_per_user}\")\n",
    "\n",
    "order_status_distribution\n"
   ]
  },
  {
   "cell_type": "code",
   "execution_count": 8,
   "id": "500065e8-0b89-476c-98bc-cfe5fb069647",
   "metadata": {},
   "outputs": [
    {
     "data": {
      "text/html": [
       "<div>\n",
       "<style scoped>\n",
       "    .dataframe tbody tr th:only-of-type {\n",
       "        vertical-align: middle;\n",
       "    }\n",
       "\n",
       "    .dataframe tbody tr th {\n",
       "        vertical-align: top;\n",
       "    }\n",
       "\n",
       "    .dataframe thead th {\n",
       "        text-align: right;\n",
       "    }\n",
       "</style>\n",
       "<table border=\"1\" class=\"dataframe\">\n",
       "  <thead>\n",
       "    <tr style=\"text-align: right;\">\n",
       "      <th></th>\n",
       "      <th>User ID</th>\n",
       "      <th>Total Sessions</th>\n",
       "      <th>Engagement Level</th>\n",
       "    </tr>\n",
       "  </thead>\n",
       "  <tbody>\n",
       "    <tr>\n",
       "      <th>0</th>\n",
       "      <td>U001</td>\n",
       "      <td>3</td>\n",
       "      <td>High</td>\n",
       "    </tr>\n",
       "    <tr>\n",
       "      <th>1</th>\n",
       "      <td>U002</td>\n",
       "      <td>3</td>\n",
       "      <td>High</td>\n",
       "    </tr>\n",
       "    <tr>\n",
       "      <th>2</th>\n",
       "      <td>U003</td>\n",
       "      <td>3</td>\n",
       "      <td>High</td>\n",
       "    </tr>\n",
       "    <tr>\n",
       "      <th>3</th>\n",
       "      <td>U004</td>\n",
       "      <td>2</td>\n",
       "      <td>Moderate</td>\n",
       "    </tr>\n",
       "    <tr>\n",
       "      <th>4</th>\n",
       "      <td>U005</td>\n",
       "      <td>2</td>\n",
       "      <td>Moderate</td>\n",
       "    </tr>\n",
       "    <tr>\n",
       "      <th>5</th>\n",
       "      <td>U006</td>\n",
       "      <td>1</td>\n",
       "      <td>Low</td>\n",
       "    </tr>\n",
       "    <tr>\n",
       "      <th>6</th>\n",
       "      <td>U007</td>\n",
       "      <td>1</td>\n",
       "      <td>Low</td>\n",
       "    </tr>\n",
       "    <tr>\n",
       "      <th>7</th>\n",
       "      <td>U008</td>\n",
       "      <td>1</td>\n",
       "      <td>Low</td>\n",
       "    </tr>\n",
       "    <tr>\n",
       "      <th>8</th>\n",
       "      <td>U009</td>\n",
       "      <td>0</td>\n",
       "      <td>Low</td>\n",
       "    </tr>\n",
       "    <tr>\n",
       "      <th>9</th>\n",
       "      <td>U010</td>\n",
       "      <td>0</td>\n",
       "      <td>Low</td>\n",
       "    </tr>\n",
       "  </tbody>\n",
       "</table>\n",
       "</div>"
      ],
      "text/plain": [
       "  User ID  Total Sessions Engagement Level\n",
       "0    U001               3             High\n",
       "1    U002               3             High\n",
       "2    U003               3             High\n",
       "3    U004               2         Moderate\n",
       "4    U005               2         Moderate\n",
       "5    U006               1              Low\n",
       "6    U007               1              Low\n",
       "7    U008               1              Low\n",
       "8    U009               0              Low\n",
       "9    U010               0              Low"
      ]
     },
     "execution_count": 8,
     "metadata": {},
     "output_type": "execute_result"
    }
   ],
   "source": [
    "# Classify users based on engagement levels\n",
    "user_engagement = user_details_df[['User ID']].copy()\n",
    "\n",
    "total_sessions = cooking_df.groupby('User ID')['Session ID'].count()\n",
    "user_engagement = user_engagement.merge(total_sessions.rename('Total Sessions'), on='User ID', how='left')\n",
    "\n",
    "user_engagement['Total Sessions'] = user_engagement['Total Sessions'].fillna(0).astype(int)\n",
    "\n",
    "user_engagement['Engagement Level'] = pd.cut(\n",
    "    user_engagement['Total Sessions'],\n",
    "    bins=[0, 2, 3, float('inf')],\n",
    "    labels=['Low', 'Moderate', 'High'],\n",
    "    right=False\n",
    ")\n",
    "user_engagement"
   ]
  },
  {
   "cell_type": "code",
   "execution_count": 9,
   "id": "b4d71228-f128-4162-a145-b8262ab3b45a",
   "metadata": {},
   "outputs": [
    {
     "data": {
      "text/html": [
       "<div>\n",
       "<style scoped>\n",
       "    .dataframe tbody tr th:only-of-type {\n",
       "        vertical-align: middle;\n",
       "    }\n",
       "\n",
       "    .dataframe tbody tr th {\n",
       "        vertical-align: top;\n",
       "    }\n",
       "\n",
       "    .dataframe thead th {\n",
       "        text-align: right;\n",
       "    }\n",
       "</style>\n",
       "<table border=\"1\" class=\"dataframe\">\n",
       "  <thead>\n",
       "    <tr style=\"text-align: right;\">\n",
       "      <th></th>\n",
       "      <th>min</th>\n",
       "      <th>max</th>\n",
       "      <th>Retention Days</th>\n",
       "    </tr>\n",
       "    <tr>\n",
       "      <th>User ID</th>\n",
       "      <th></th>\n",
       "      <th></th>\n",
       "      <th></th>\n",
       "    </tr>\n",
       "  </thead>\n",
       "  <tbody>\n",
       "    <tr>\n",
       "      <th>U001</th>\n",
       "      <td>2024-12-01 19:00:00</td>\n",
       "      <td>2024-12-05 19:00:00</td>\n",
       "      <td>4</td>\n",
       "    </tr>\n",
       "    <tr>\n",
       "      <th>U002</th>\n",
       "      <td>2024-12-01 12:00:00</td>\n",
       "      <td>2024-12-05 07:00:00</td>\n",
       "      <td>3</td>\n",
       "    </tr>\n",
       "    <tr>\n",
       "      <th>U003</th>\n",
       "      <td>2024-12-02 19:30:00</td>\n",
       "      <td>2024-12-06 08:00:00</td>\n",
       "      <td>3</td>\n",
       "    </tr>\n",
       "    <tr>\n",
       "      <th>U004</th>\n",
       "      <td>2024-12-03 13:00:00</td>\n",
       "      <td>2024-12-06 19:00:00</td>\n",
       "      <td>3</td>\n",
       "    </tr>\n",
       "    <tr>\n",
       "      <th>U005</th>\n",
       "      <td>2024-12-04 18:00:00</td>\n",
       "      <td>2024-12-07 12:30:00</td>\n",
       "      <td>2</td>\n",
       "    </tr>\n",
       "    <tr>\n",
       "      <th>U006</th>\n",
       "      <td>2024-12-07 18:00:00</td>\n",
       "      <td>2024-12-07 18:00:00</td>\n",
       "      <td>0</td>\n",
       "    </tr>\n",
       "    <tr>\n",
       "      <th>U007</th>\n",
       "      <td>2024-12-08 19:30:00</td>\n",
       "      <td>2024-12-08 19:30:00</td>\n",
       "      <td>0</td>\n",
       "    </tr>\n",
       "    <tr>\n",
       "      <th>U008</th>\n",
       "      <td>2024-12-08 13:30:00</td>\n",
       "      <td>2024-12-08 13:30:00</td>\n",
       "      <td>0</td>\n",
       "    </tr>\n",
       "  </tbody>\n",
       "</table>\n",
       "</div>"
      ],
      "text/plain": [
       "                        min                 max  Retention Days\n",
       "User ID                                                        \n",
       "U001    2024-12-01 19:00:00 2024-12-05 19:00:00               4\n",
       "U002    2024-12-01 12:00:00 2024-12-05 07:00:00               3\n",
       "U003    2024-12-02 19:30:00 2024-12-06 08:00:00               3\n",
       "U004    2024-12-03 13:00:00 2024-12-06 19:00:00               3\n",
       "U005    2024-12-04 18:00:00 2024-12-07 12:30:00               2\n",
       "U006    2024-12-07 18:00:00 2024-12-07 18:00:00               0\n",
       "U007    2024-12-08 19:30:00 2024-12-08 19:30:00               0\n",
       "U008    2024-12-08 13:30:00 2024-12-08 13:30:00               0"
      ]
     },
     "execution_count": 9,
     "metadata": {},
     "output_type": "execute_result"
    }
   ],
   "source": [
    "# Time gap between the first and last session for each user\n",
    "session_dates = cooking_df.groupby('User ID')['Session Start'].agg(['min', 'max'])\n",
    "session_dates['Retention Days'] = (pd.to_datetime(session_dates['max']) - pd.to_datetime(session_dates['min'])).dt.days\n",
    "\n",
    "session_dates"
   ]
  },
  {
   "cell_type": "code",
   "execution_count": null,
   "id": "d419e719-a4bf-45c8-8948-19ffaa925116",
   "metadata": {},
   "outputs": [],
   "source": []
  },
  {
   "cell_type": "code",
   "execution_count": null,
   "id": "e2776504-b67c-4fb2-9c51-062f3a0b3f36",
   "metadata": {},
   "outputs": [],
   "source": []
  },
  {
   "cell_type": "markdown",
   "id": "bd89a2aa-760b-4ecb-97a5-89eae008279f",
   "metadata": {},
   "source": [
    "### 2. Cooking Preferences Analysis\n",
    "\n",
    "* Popular dishes based on cooking session counts.\n",
    "* Time of day trends for cooking sessions (breakfast, lunch, dinner).\n",
    "* Average session duration by meal type (e.g., breakfast sessions are shorter than dinner sessions).\n",
    "* Session Ratings vs. Dishes \n",
    "* Unpopular Dishes"
   ]
  },
  {
   "cell_type": "code",
   "execution_count": 10,
   "id": "f73fdc53-d200-4763-88c7-3ff8849cd21f",
   "metadata": {},
   "outputs": [
    {
     "name": "stdout",
     "output_type": "stream",
     "text": [
      "Top 10 most cooked dishes:\n",
      "Dish Name\n",
      "Spaghetti          4\n",
      "Grilled Chicken    4\n",
      "Caesar Salad       3\n",
      "Pancakes           2\n",
      "Veggie Burger      2\n",
      "Oatmeal            1\n",
      "Name: count, dtype: int64\n"
     ]
    }
   ],
   "source": [
    "# Most cooked dishes\n",
    "popular_dishes = cooking_df['Dish Name'].value_counts().head(10)\n",
    "\n",
    "print(\"Top 10 most cooked dishes:\")\n",
    "print(popular_dishes)\n"
   ]
  },
  {
   "cell_type": "code",
   "execution_count": 11,
   "id": "77612fc3-4680-4077-b9e3-83484a1e7447",
   "metadata": {},
   "outputs": [
    {
     "name": "stdout",
     "output_type": "stream",
     "text": [
      "Cooking trends by meal type:\n",
      "Meal Type\n",
      "Dinner       8\n",
      "Lunch        5\n",
      "Breakfast    3\n",
      "Name: count, dtype: int64\n"
     ]
    }
   ],
   "source": [
    "# Cooking session counts by meal type\n",
    "meal_type_trends = cooking_df['Meal Type'].value_counts()\n",
    "print(\"Cooking trends by meal type:\")\n",
    "print(meal_type_trends)\n"
   ]
  },
  {
   "cell_type": "code",
   "execution_count": 12,
   "id": "06bc0677-432f-4378-ac36-43209f841c1e",
   "metadata": {},
   "outputs": [
    {
     "name": "stdout",
     "output_type": "stream",
     "text": [
      "Average session duration by meal type (minutes):\n",
      "Meal Type\n",
      "Breakfast    23.333333\n",
      "Dinner       38.750000\n",
      "Lunch        21.000000\n",
      "Name: Duration (mins), dtype: float64\n"
     ]
    }
   ],
   "source": [
    "# Average duration per meal type\n",
    "avg_duration_by_meal = cooking_df.groupby('Meal Type')['Duration (mins)'].mean()\n",
    "print(\"Average session duration by meal type (minutes):\")\n",
    "print(avg_duration_by_meal)\n"
   ]
  },
  {
   "cell_type": "code",
   "execution_count": 13,
   "id": "061d11ac-13c2-4040-a0e2-0200c8978206",
   "metadata": {},
   "outputs": [
    {
     "name": "stdout",
     "output_type": "stream",
     "text": [
      "Dish Name\n",
      "Caesar Salad       4.366667\n",
      "Grilled Chicken    4.775000\n",
      "Oatmeal            4.100000\n",
      "Pancakes           4.400000\n",
      "Spaghetti          4.625000\n",
      "Veggie Burger      4.350000\n",
      "Name: Session Rating, dtype: float64\n"
     ]
    }
   ],
   "source": [
    "# Average session rating by dish\n",
    "dish_ratings = cooking_df.groupby('Dish Name')['Session Rating'].mean()\n",
    "print(dish_ratings)\n"
   ]
  },
  {
   "cell_type": "code",
   "execution_count": 14,
   "id": "09b24e1b-53aa-45ce-b4c0-19f8ae49346d",
   "metadata": {},
   "outputs": [
    {
     "name": "stdout",
     "output_type": "stream",
     "text": [
      "Dish Name\n",
      "Spaghetti          4\n",
      "Grilled Chicken    4\n",
      "Caesar Salad       3\n",
      "Pancakes           2\n",
      "Veggie Burger      2\n",
      "Oatmeal            1\n",
      "Name: count, dtype: int64\n"
     ]
    }
   ],
   "source": [
    "# Dishes with very few sessions or low ratings\n",
    "unpopular_dishes = cooking_df['Dish Name'].value_counts().tail(10)\n",
    "print(unpopular_dishes)\n"
   ]
  },
  {
   "cell_type": "code",
   "execution_count": null,
   "id": "09bbf383-6ae6-47ab-81f5-c0de5bbd1daa",
   "metadata": {},
   "outputs": [],
   "source": []
  },
  {
   "cell_type": "markdown",
   "id": "ba887a21-4e20-4c37-9b48-bbb7b11e7ad4",
   "metadata": {},
   "source": [
    "### 3. Demographics\n",
    "\n",
    "* Are certain dishes or meal types more popular in specific regions?\n",
    "* How do location and age influence cooking preferences?\n",
    "\n"
   ]
  },
  {
   "cell_type": "code",
   "execution_count": 15,
   "id": "458345c6-efcc-4a99-b437-136cb16cd504",
   "metadata": {},
   "outputs": [
    {
     "name": "stdout",
     "output_type": "stream",
     "text": [
      "Regional cooking preferences:\n",
      "Location     Dish Name      \n",
      "Austin       Grilled Chicken    1\n",
      "Boston       Spaghetti          1\n",
      "Chicago      Grilled Chicken    1\n",
      "             Pancakes           1\n",
      "             Veggie Burger      1\n",
      "Los Angeles  Caesar Salad       1\n",
      "             Oatmeal            1\n",
      "             Spaghetti          1\n",
      "Miami        Veggie Burger      1\n",
      "New York     Grilled Chicken    1\n",
      "Name: count, dtype: int64\n"
     ]
    }
   ],
   "source": [
    "# Popular dishes by location\n",
    "dishes_by_location = cooking_df.merge(user_details_df, on='User ID').groupby('Location')['Dish Name'].value_counts().head(10)\n",
    "print(\"Regional cooking preferences:\")\n",
    "print(dishes_by_location)\n"
   ]
  },
  {
   "cell_type": "code",
   "execution_count": 16,
   "id": "4ba1a732-f43d-491d-8964-ec8090929427",
   "metadata": {},
   "outputs": [
    {
     "name": "stdout",
     "output_type": "stream",
     "text": [
      "Age Group     Dish Name      \n",
      "Young Adults  Caesar Salad       0\n",
      "              Grilled Chicken    0\n",
      "              Oatmeal            0\n",
      "              Pancakes           0\n",
      "              Spaghetti          0\n",
      "              Veggie Burger      0\n",
      "Adults        Grilled Chicken    3\n",
      "              Caesar Salad       2\n",
      "              Spaghetti          2\n",
      "              Pancakes           1\n",
      "Name: count, dtype: int64\n"
     ]
    },
    {
     "name": "stderr",
     "output_type": "stream",
     "text": [
      "/tmp/ipykernel_2427573/1062323475.py:6: FutureWarning: The default of observed=False is deprecated and will be changed to True in a future version of pandas. Pass observed=False to retain current behavior or observed=True to adopt the future default and silence this warning.\n",
      "  popular_dishes_by_age = user_with_cooking.groupby('Age Group')['Dish Name'].value_counts().head(10)\n"
     ]
    }
   ],
   "source": [
    "# Top dishes segmented by age group\n",
    "user_with_cooking = cooking_df.merge(user_details_df, on='User ID')\n",
    "age_bins = [10, 20, 30, 40]\n",
    "age_labels = ['Young Adults', 'Adults', 'Middle Aged']\n",
    "user_with_cooking['Age Group'] = pd.cut(user_with_cooking['Age'], bins=age_bins, labels=age_labels)\n",
    "popular_dishes_by_age = user_with_cooking.groupby('Age Group')['Dish Name'].value_counts().head(10)\n",
    "print(popular_dishes_by_age)\n"
   ]
  },
  {
   "cell_type": "code",
   "execution_count": null,
   "id": "5b796b97-c873-4d14-ac45-999d57728619",
   "metadata": {},
   "outputs": [],
   "source": []
  },
  {
   "cell_type": "code",
   "execution_count": null,
   "id": "565d3a2d-02cb-4fb4-a3fc-8a7bf8f3e1a1",
   "metadata": {},
   "outputs": [],
   "source": []
  },
  {
   "cell_type": "markdown",
   "id": "1b77fa55-7a39-41b8-9643-7baceb29631a",
   "metadata": {},
   "source": [
    "### 4. Order Trends Analysis\n",
    "\n",
    "* Most ordered dishes and their success rates (Order Status).\n",
    "* Revenue trends: Average amount spent per order, top-spending users.\n",
    "\n",
    "* Time Between Orders\n",
    "* Canceled Orders Analysis"
   ]
  },
  {
   "cell_type": "code",
   "execution_count": 17,
   "id": "b28e7776-28c4-4224-b308-6d37cd54d684",
   "metadata": {},
   "outputs": [
    {
     "name": "stdout",
     "output_type": "stream",
     "text": [
      "Top 10 most ordered dishes:\n"
     ]
    },
    {
     "data": {
      "text/plain": [
       "Dish Name\n",
       "Spaghetti          4\n",
       "Grilled Chicken    4\n",
       "Caesar Salad       3\n",
       "Pancakes           2\n",
       "Veggie Burger      2\n",
       "Oatmeal            1\n",
       "Name: count, dtype: int64"
      ]
     },
     "execution_count": 17,
     "metadata": {},
     "output_type": "execute_result"
    }
   ],
   "source": [
    "# Most ordered dishes\n",
    "popular_ordered_dishes = order_df['Dish Name'].value_counts().head(10)\n",
    "print(\"Top 10 most ordered dishes:\")\n",
    "popular_ordered_dishes\n"
   ]
  },
  {
   "cell_type": "code",
   "execution_count": 18,
   "id": "51ef0d97-05b0-4583-ae6b-ccb7c640ad1d",
   "metadata": {},
   "outputs": [
    {
     "data": {
      "text/plain": [
       "Dish Name\n",
       "Caesar Salad       4.000000\n",
       "Grilled Chicken    4.666667\n",
       "Oatmeal            4.000000\n",
       "Pancakes           4.000000\n",
       "Spaghetti          4.500000\n",
       "Veggie Burger      4.000000\n",
       "Name: Rating, dtype: float64"
      ]
     },
     "execution_count": 18,
     "metadata": {},
     "output_type": "execute_result"
    }
   ],
   "source": [
    "# if all dishes were ordered equal number of times, how would each dish be rated.\n",
    "most_rated = order_df.groupby('Dish Name')['Rating'].mean()\n",
    "most_rated\n"
   ]
  },
  {
   "cell_type": "code",
   "execution_count": 19,
   "id": "41083b83-75e4-4c7b-9da0-9a936e973c30",
   "metadata": {},
   "outputs": [
    {
     "name": "stdout",
     "output_type": "stream",
     "text": [
      "Average order amount: $11.25\n"
     ]
    }
   ],
   "source": [
    "# Average amount spent per order\n",
    "avg_order_amount = order_df['Amount (USD)'].mean()\n",
    "print(f\"Average order amount: ${avg_order_amount:.2f}\")\n"
   ]
  },
  {
   "cell_type": "code",
   "execution_count": 20,
   "id": "189af609-fe6b-4220-821a-f03fe3db793f",
   "metadata": {},
   "outputs": [
    {
     "name": "stdout",
     "output_type": "stream",
     "text": [
      "count    8.000000\n",
      "mean     2.250000\n",
      "std      0.707107\n",
      "min      1.000000\n",
      "25%      2.000000\n",
      "50%      2.000000\n",
      "75%      3.000000\n",
      "max      3.000000\n",
      "Name: Order Date, dtype: float64\n"
     ]
    }
   ],
   "source": [
    "# Time between orders for each user\n",
    "order_df['Order Date'] = pd.to_datetime(order_df['Order Date'])\n",
    "order_gap = order_df.sort_values(['User ID', 'Order Date']).groupby('User ID')['Order Date'].diff().dt.days\n",
    "print(order_gap.describe())  # Average, median, etc.\n"
   ]
  },
  {
   "cell_type": "code",
   "execution_count": 21,
   "id": "e8ed06b7-8b39-4462-9c62-305fbbb15d3a",
   "metadata": {},
   "outputs": [
    {
     "name": "stdout",
     "output_type": "stream",
     "text": [
      "Dish Name        Meal Type\n",
      "Grilled Chicken  Dinner       1\n",
      "Veggie Burger    Lunch        1\n",
      "dtype: int64\n"
     ]
    }
   ],
   "source": [
    "# Analyze canceled orders by dish and meal type\n",
    "canceled_orders = order_df[order_df['Order Status'] == 'Canceled']\n",
    "canceled_trends = canceled_orders.groupby(['Dish Name', 'Meal Type']).size().sort_values(ascending=False)\n",
    "print(canceled_trends)\n"
   ]
  },
  {
   "cell_type": "code",
   "execution_count": null,
   "id": "11b522fc-08e0-4500-bf43-9463f3d2202c",
   "metadata": {},
   "outputs": [],
   "source": []
  },
  {
   "cell_type": "markdown",
   "id": "4c466c7b-e475-4006-bac9-978702c7d27c",
   "metadata": {
    "scrolled": true
   },
   "source": [
    "### 5. Revenue and Business Growth\n",
    "* Lifetime Value of Users\n",
    "* Revenue Growth by Registration Month\n",
    "* High Value users\n",
    "* Dish-Specific Revenue\n",
    "* Revenue Distribution by Region"
   ]
  },
  {
   "cell_type": "code",
   "execution_count": 22,
   "id": "ffa616b0-1aea-492f-9102-bf9c8035abe8",
   "metadata": {},
   "outputs": [
    {
     "name": "stdout",
     "output_type": "stream",
     "text": [
      "User ID\n",
      "U001    35.0\n",
      "U002    31.0\n",
      "U003    32.0\n",
      "U004    21.5\n",
      "U005    22.5\n",
      "U006    13.0\n",
      "U007    14.0\n",
      "U008    11.0\n",
      "Name: Amount (USD), dtype: float64\n"
     ]
    }
   ],
   "source": [
    "# Total revenue generated by each user\n",
    "user_revenue = order_df.groupby('User ID')['Amount (USD)'].sum()\n",
    "print(user_revenue)\n"
   ]
  },
  {
   "cell_type": "code",
   "execution_count": 23,
   "id": "b2907c49-e3d8-44a3-90e8-51242938327a",
   "metadata": {},
   "outputs": [
    {
     "name": "stdout",
     "output_type": "stream",
     "text": [
      "Registration Month\n",
      "2023-01    35.0\n",
      "2023-02    31.0\n",
      "2023-03    32.0\n",
      "2023-04    21.5\n",
      "2023-05    22.5\n",
      "2023-06    13.0\n",
      "2023-07    14.0\n",
      "2023-08    11.0\n",
      "Freq: M, Name: Amount (USD), dtype: float64\n"
     ]
    }
   ],
   "source": [
    "# Revenue by registration month\n",
    "user_details_df['Registration Date'] = pd.to_datetime(user_details_df['Registration Date'])\n",
    "user_details_df['Registration Month'] = user_details_df['Registration Date'].dt.to_period('M')\n",
    "revenue_by_month = user_details_df.merge(order_df, on='User ID').groupby('Registration Month')['Amount (USD)'].sum()\n",
    "print(revenue_by_month)\n"
   ]
  },
  {
   "cell_type": "code",
   "execution_count": 24,
   "id": "5715997a-f821-4558-9a89-5f9221a07eb2",
   "metadata": {},
   "outputs": [
    {
     "name": "stdout",
     "output_type": "stream",
     "text": [
      "User ID\n",
      "U001    35.0\n",
      "U003    32.0\n",
      "Name: Amount (USD), dtype: float64\n"
     ]
    }
   ],
   "source": [
    "# Top 20% of users by revenue\n",
    "high_value_users = user_revenue[user_revenue >= user_revenue.quantile(0.80)]\n",
    "print(high_value_users)\n"
   ]
  },
  {
   "cell_type": "code",
   "execution_count": 25,
   "id": "e63cb920-0e19-4408-a974-ec7f075b86e3",
   "metadata": {},
   "outputs": [
    {
     "name": "stdout",
     "output_type": "stream",
     "text": [
      "Dish Name\n",
      "Caesar Salad       28.0\n",
      "Grilled Chicken    51.0\n",
      "Oatmeal             7.0\n",
      "Pancakes           16.5\n",
      "Spaghetti          55.5\n",
      "Veggie Burger      22.0\n",
      "Name: Amount (USD), dtype: float64\n"
     ]
    }
   ],
   "source": [
    "# Total revenue per dish\n",
    "dish_revenue = order_df.groupby('Dish Name')['Amount (USD)'].sum()\n",
    "print(dish_revenue)\n"
   ]
  },
  {
   "cell_type": "code",
   "execution_count": 26,
   "id": "17ca4968-db12-435d-9aa2-2024cf47402b",
   "metadata": {},
   "outputs": [
    {
     "name": "stdout",
     "output_type": "stream",
     "text": [
      "Location\n",
      "Austin           13.0\n",
      "Boston           14.0\n",
      "Chicago          32.0\n",
      "Los Angeles      31.0\n",
      "Miami            11.0\n",
      "New York         35.0\n",
      "San Francisco    21.5\n",
      "Seattle          22.5\n",
      "Name: Amount (USD), dtype: float64\n"
     ]
    }
   ],
   "source": [
    "# Revenue by region\n",
    "revenue_by_region = order_df.merge(user_details_df, on='User ID').groupby('Location')['Amount (USD)'].sum()\n",
    "print(revenue_by_region)"
   ]
  },
  {
   "cell_type": "code",
   "execution_count": null,
   "id": "35de54ce-76cb-44e4-be2a-66698dfe1f6f",
   "metadata": {},
   "outputs": [],
   "source": []
  },
  {
   "cell_type": "markdown",
   "id": "dd7def15-fdf0-4e08-82e3-14519e3c529f",
   "metadata": {},
   "source": [
    "### Vizualisation "
   ]
  },
  {
   "cell_type": "code",
   "execution_count": 27,
   "id": "d304ab14-15e4-4ed2-8f75-fa0c84abd96a",
   "metadata": {},
   "outputs": [
    {
     "name": "stderr",
     "output_type": "stream",
     "text": [
      "/usr/local/lib/python3.10/dist-packages/matplotlib/projections/__init__.py:63: UserWarning: Unable to import Axes3D. This may be due to multiple versions of Matplotlib being installed (e.g. as a system package and as a pip package). As a result, the 3D projection is not available.\n",
      "  warnings.warn(\"Unable to import Axes3D. This may be due to multiple versions of \"\n"
     ]
    },
    {
     "data": {
      "image/png": "[encoded data removed]",
      "text/plain": [
       "<Figure size 640x480 with 1 Axes>"
      ]
     },
     "metadata": {},
     "output_type": "display_data"
    }
   ],
   "source": [
    "import seaborn as sns\n",
    "import matplotlib.pyplot as plt\n",
    "\n",
    "# Example: Bar chart for most cooked dishes\n",
    "sns.barplot(x=popular_dishes.index, y=popular_dishes.values)\n",
    "plt.title(\"Top 10 Most Cooked Dishes\")\n",
    "plt.ylabel(\"Number of Cooking Sessions\")\n",
    "plt.xlabel(\"Dish Name\")\n",
    "plt.xticks(rotation=45)\n",
    "plt.show()\n"
   ]
  },
  {
   "cell_type": "code",
   "execution_count": null,
   "id": "25c39ed8-2496-480e-ac66-4107bc0cfc25",
   "metadata": {},
   "outputs": [],
   "source": []
  },
  {
   "cell_type": "code",
   "execution_count": null,
   "id": "0fde1cda-f649-4a2f-a1fc-6e0e6855e392",
   "metadata": {},
   "outputs": [],
   "source": []
  },
  {
   "cell_type": "code",
   "execution_count": null,
   "id": "12b5665c-01a6-4fba-993e-7f6b2efca913",
   "metadata": {},
   "outputs": [],
   "source": []
  }
 ],
 "metadata": {
  "kernelspec": {
   "display_name": "Python 3 (ipykernel)",
   "language": "python",
   "name": "python3"
  },
  "language_info": {
   "codemirror_mode": {
    "name": "ipython",
    "version": 3
   },
   "file_extension": ".py",
   "mimetype": "text/x-python",
   "name": "python",
   "nbconvert_exporter": "python",
   "pygments_lexer": "ipython3",
   "version": "3.10.12"
  }
 },
 "nbformat": 4,
 "nbformat_minor": 5
}
